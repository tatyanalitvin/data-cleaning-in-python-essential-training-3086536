{
 "cells": [
  {
   "cell_type": "code",
   "execution_count": 1,
   "id": "6418300c",
   "metadata": {},
   "outputs": [],
   "source": [
    "import sqlite3\n",
    "\n",
    "import pandas as pd\n",
    "from invoke import task\n",
    "\n",
    "\n",
    "def load_csv(csv_file):\n",
    "    df = pd.read_csv(csv_file, parse_dates=['start', 'end'])\n",
    "    return df\n",
    "\n",
    "\n",
    "def validate(df):\n",
    "    bad_time = df.query('start >= end')\n",
    "    if len(bad_time) > 0:\n",
    "        raise ValueError(bad_time)\n",
    "\n",
    "\n",
    "@task\n",
    "def etl(ctx, csv_file):\n",
    "    df = load_csv(csv_file)\n",
    "    validate(df)\n",
    "\n",
    "    db_file = f'rides.db'\n",
    "    conn = sqlite3.connect(db_file)\n",
    "    df.to_sql('rides', conn, index=False, if_exists='append')\n"
   ]
  },
  {
   "cell_type": "markdown",
   "id": "3e90f763",
   "metadata": {},
   "source": [
    "invoke --list\n",
    "\n",
    "invoke etl --csv-file rides.csv\n",
    "\n",
    "sqlite3 rides.db\n",
    "\n",
    ".schema\n"
   ]
  },
  {
   "cell_type": "code",
   "execution_count": null,
   "id": "6c2e2119",
   "metadata": {},
   "outputs": [],
   "source": []
  }
 ],
 "metadata": {
  "kernelspec": {
   "display_name": ".venv",
   "language": "python",
   "name": "python3"
  },
  "language_info": {
   "codemirror_mode": {
    "name": "ipython",
    "version": 3
   },
   "file_extension": ".py",
   "mimetype": "text/x-python",
   "name": "python",
   "nbconvert_exporter": "python",
   "pygments_lexer": "ipython3",
   "version": "3.10.12"
  }
 },
 "nbformat": 4,
 "nbformat_minor": 5
}
