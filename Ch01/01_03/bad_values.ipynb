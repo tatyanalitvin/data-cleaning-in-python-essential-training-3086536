{
 "cells": [
  {
   "cell_type": "code",
   "execution_count": 2,
   "id": "0eb0c379",
   "metadata": {},
   "outputs": [],
   "source": [
    "import pandas as pd"
   ]
  },
  {
   "cell_type": "code",
   "execution_count": 3,
   "id": "32684e02",
   "metadata": {},
   "outputs": [
    {
     "data": {
      "text/html": [
       "<div>\n",
       "<style scoped>\n",
       "    .dataframe tbody tr th:only-of-type {\n",
       "        vertical-align: middle;\n",
       "    }\n",
       "\n",
       "    .dataframe tbody tr th {\n",
       "        vertical-align: top;\n",
       "    }\n",
       "\n",
       "    .dataframe thead th {\n",
       "        text-align: right;\n",
       "    }\n",
       "</style>\n",
       "<table border=\"1\" class=\"dataframe\">\n",
       "  <thead>\n",
       "    <tr style=\"text-align: right;\">\n",
       "      <th></th>\n",
       "      <th>time</th>\n",
       "      <th>name</th>\n",
       "      <th>value</th>\n",
       "    </tr>\n",
       "  </thead>\n",
       "  <tbody>\n",
       "    <tr>\n",
       "      <th>28</th>\n",
       "      <td>2021-07-13 14:37:05.778</td>\n",
       "      <td>mem</td>\n",
       "      <td>2.275143e+08</td>\n",
       "    </tr>\n",
       "    <tr>\n",
       "      <th>16</th>\n",
       "      <td>2021-07-13 14:37:00.036</td>\n",
       "      <td>cpu</td>\n",
       "      <td>3.095000e+01</td>\n",
       "    </tr>\n",
       "    <tr>\n",
       "      <th>41</th>\n",
       "      <td>2021-07-13 14:37:11.520</td>\n",
       "      <td>cpu</td>\n",
       "      <td>2.804000e+01</td>\n",
       "    </tr>\n",
       "    <tr>\n",
       "      <th>75</th>\n",
       "      <td>2021-07-13 14:37:27.789</td>\n",
       "      <td>mem</td>\n",
       "      <td>2.274959e+08</td>\n",
       "    </tr>\n",
       "    <tr>\n",
       "      <th>51</th>\n",
       "      <td>2021-07-13 14:37:16.305</td>\n",
       "      <td>mem</td>\n",
       "      <td>2.275561e+08</td>\n",
       "    </tr>\n",
       "    <tr>\n",
       "      <th>65</th>\n",
       "      <td>2021-07-13 14:37:23.004</td>\n",
       "      <td>cpu</td>\n",
       "      <td>3.298000e+01</td>\n",
       "    </tr>\n",
       "    <tr>\n",
       "      <th>95</th>\n",
       "      <td>2021-07-13 14:37:37.359</td>\n",
       "      <td>mem</td>\n",
       "      <td>2.274985e+08</td>\n",
       "    </tr>\n",
       "    <tr>\n",
       "      <th>38</th>\n",
       "      <td>2021-07-13 14:37:10.563</td>\n",
       "      <td>cpu</td>\n",
       "      <td>2.737000e+01</td>\n",
       "    </tr>\n",
       "    <tr>\n",
       "      <th>12</th>\n",
       "      <td>2021-07-13 14:36:58.122</td>\n",
       "      <td>mem</td>\n",
       "      <td>2.275156e+08</td>\n",
       "    </tr>\n",
       "    <tr>\n",
       "      <th>55</th>\n",
       "      <td>2021-07-13 14:37:18.219</td>\n",
       "      <td>mem</td>\n",
       "      <td>2.275523e+08</td>\n",
       "    </tr>\n",
       "  </tbody>\n",
       "</table>\n",
       "</div>"
      ],
      "text/plain": [
       "                      time name         value\n",
       "28 2021-07-13 14:37:05.778  mem  2.275143e+08\n",
       "16 2021-07-13 14:37:00.036  cpu  3.095000e+01\n",
       "41 2021-07-13 14:37:11.520  cpu  2.804000e+01\n",
       "75 2021-07-13 14:37:27.789  mem  2.274959e+08\n",
       "51 2021-07-13 14:37:16.305  mem  2.275561e+08\n",
       "65 2021-07-13 14:37:23.004  cpu  3.298000e+01\n",
       "95 2021-07-13 14:37:37.359  mem  2.274985e+08\n",
       "38 2021-07-13 14:37:10.563  cpu  2.737000e+01\n",
       "12 2021-07-13 14:36:58.122  mem  2.275156e+08\n",
       "55 2021-07-13 14:37:18.219  mem  2.275523e+08"
      ]
     },
     "execution_count": 3,
     "metadata": {},
     "output_type": "execute_result"
    }
   ],
   "source": [
    "df = pd.read_csv('metrics.csv', parse_dates=['time'])\n",
    "df.sample(10)"
   ]
  },
  {
   "cell_type": "code",
   "execution_count": 4,
   "id": "f6045dc3",
   "metadata": {},
   "outputs": [
    {
     "data": {
      "text/html": [
       "<div>\n",
       "<style scoped>\n",
       "    .dataframe tbody tr th:only-of-type {\n",
       "        vertical-align: middle;\n",
       "    }\n",
       "\n",
       "    .dataframe tbody tr th {\n",
       "        vertical-align: top;\n",
       "    }\n",
       "\n",
       "    .dataframe thead tr th {\n",
       "        text-align: left;\n",
       "    }\n",
       "\n",
       "    .dataframe thead tr:last-of-type th {\n",
       "        text-align: right;\n",
       "    }\n",
       "</style>\n",
       "<table border=\"1\" class=\"dataframe\">\n",
       "  <thead>\n",
       "    <tr>\n",
       "      <th></th>\n",
       "      <th colspan=\"8\" halign=\"left\">time</th>\n",
       "      <th colspan=\"8\" halign=\"left\">value</th>\n",
       "    </tr>\n",
       "    <tr>\n",
       "      <th></th>\n",
       "      <th>count</th>\n",
       "      <th>mean</th>\n",
       "      <th>min</th>\n",
       "      <th>25%</th>\n",
       "      <th>50%</th>\n",
       "      <th>75%</th>\n",
       "      <th>max</th>\n",
       "      <th>std</th>\n",
       "      <th>count</th>\n",
       "      <th>mean</th>\n",
       "      <th>min</th>\n",
       "      <th>25%</th>\n",
       "      <th>50%</th>\n",
       "      <th>75%</th>\n",
       "      <th>max</th>\n",
       "      <th>std</th>\n",
       "    </tr>\n",
       "    <tr>\n",
       "      <th>name</th>\n",
       "      <th></th>\n",
       "      <th></th>\n",
       "      <th></th>\n",
       "      <th></th>\n",
       "      <th></th>\n",
       "      <th></th>\n",
       "      <th></th>\n",
       "      <th></th>\n",
       "      <th></th>\n",
       "      <th></th>\n",
       "      <th></th>\n",
       "      <th></th>\n",
       "      <th></th>\n",
       "      <th></th>\n",
       "      <th></th>\n",
       "      <th></th>\n",
       "    </tr>\n",
       "  </thead>\n",
       "  <tbody>\n",
       "    <tr>\n",
       "      <th>CPU</th>\n",
       "      <td>1</td>\n",
       "      <td>2021-07-13 14:36:59.079000064</td>\n",
       "      <td>2021-07-13 14:36:59.079000</td>\n",
       "      <td>2021-07-13 14:36:59.079000064</td>\n",
       "      <td>2021-07-13 14:36:59.079000064</td>\n",
       "      <td>2021-07-13 14:36:59.079000064</td>\n",
       "      <td>2021-07-13 14:36:59.079000</td>\n",
       "      <td>NaN</td>\n",
       "      <td>1.0</td>\n",
       "      <td>3.040000e+01</td>\n",
       "      <td>30.40</td>\n",
       "      <td>3.040000e+01</td>\n",
       "      <td>3.040000e+01</td>\n",
       "      <td>3.040000e+01</td>\n",
       "      <td>30.4</td>\n",
       "      <td>NaN</td>\n",
       "    </tr>\n",
       "    <tr>\n",
       "      <th>cpu</th>\n",
       "      <td>49</td>\n",
       "      <td>2021-07-13 14:37:16.168285696</td>\n",
       "      <td>2021-07-13 14:36:52.380000</td>\n",
       "      <td>2021-07-13 14:37:04.820999936</td>\n",
       "      <td>2021-07-13 14:37:16.304999936</td>\n",
       "      <td>2021-07-13 14:37:27.788999936</td>\n",
       "      <td>2021-07-13 14:37:39.273000</td>\n",
       "      <td>NaN</td>\n",
       "      <td>49.0</td>\n",
       "      <td>3.645633e+01</td>\n",
       "      <td>-32.14</td>\n",
       "      <td>2.956000e+01</td>\n",
       "      <td>3.157000e+01</td>\n",
       "      <td>3.507000e+01</td>\n",
       "      <td>300.9</td>\n",
       "      <td>3.977927e+01</td>\n",
       "    </tr>\n",
       "    <tr>\n",
       "      <th>mem</th>\n",
       "      <td>50</td>\n",
       "      <td>2021-07-13 14:37:15.826500096</td>\n",
       "      <td>2021-07-13 14:36:52.380000</td>\n",
       "      <td>2021-07-13 14:37:04.103249920</td>\n",
       "      <td>2021-07-13 14:37:15.826499840</td>\n",
       "      <td>2021-07-13 14:37:27.549750016</td>\n",
       "      <td>2021-07-13 14:37:39.273000</td>\n",
       "      <td>NaN</td>\n",
       "      <td>50.0</td>\n",
       "      <td>2.229711e+08</td>\n",
       "      <td>295.00</td>\n",
       "      <td>2.275070e+08</td>\n",
       "      <td>2.275188e+08</td>\n",
       "      <td>2.275342e+08</td>\n",
       "      <td>227556054.0</td>\n",
       "      <td>3.217637e+07</td>\n",
       "    </tr>\n",
       "  </tbody>\n",
       "</table>\n",
       "</div>"
      ],
      "text/plain": [
       "      time                                                             \\\n",
       "     count                           mean                         min   \n",
       "name                                                                    \n",
       "CPU      1  2021-07-13 14:36:59.079000064  2021-07-13 14:36:59.079000   \n",
       "cpu     49  2021-07-13 14:37:16.168285696  2021-07-13 14:36:52.380000   \n",
       "mem     50  2021-07-13 14:37:15.826500096  2021-07-13 14:36:52.380000   \n",
       "\n",
       "                                                                    \\\n",
       "                                25%                            50%   \n",
       "name                                                                 \n",
       "CPU   2021-07-13 14:36:59.079000064  2021-07-13 14:36:59.079000064   \n",
       "cpu   2021-07-13 14:37:04.820999936  2021-07-13 14:37:16.304999936   \n",
       "mem   2021-07-13 14:37:04.103249920  2021-07-13 14:37:15.826499840   \n",
       "\n",
       "                                                                     value  \\\n",
       "                                75%                         max  std count   \n",
       "name                                                                         \n",
       "CPU   2021-07-13 14:36:59.079000064  2021-07-13 14:36:59.079000  NaN   1.0   \n",
       "cpu   2021-07-13 14:37:27.788999936  2021-07-13 14:37:39.273000  NaN  49.0   \n",
       "mem   2021-07-13 14:37:27.549750016  2021-07-13 14:37:39.273000  NaN  50.0   \n",
       "\n",
       "                                                                      \\\n",
       "              mean     min           25%           50%           75%   \n",
       "name                                                                   \n",
       "CPU   3.040000e+01   30.40  3.040000e+01  3.040000e+01  3.040000e+01   \n",
       "cpu   3.645633e+01  -32.14  2.956000e+01  3.157000e+01  3.507000e+01   \n",
       "mem   2.229711e+08  295.00  2.275070e+08  2.275188e+08  2.275342e+08   \n",
       "\n",
       "                                 \n",
       "              max           std  \n",
       "name                             \n",
       "CPU          30.4           NaN  \n",
       "cpu         300.9  3.977927e+01  \n",
       "mem   227556054.0  3.217637e+07  "
      ]
     },
     "execution_count": 4,
     "metadata": {},
     "output_type": "execute_result"
    }
   ],
   "source": [
    "df.groupby('name').describe()\n"
   ]
  },
  {
   "cell_type": "code",
   "execution_count": 5,
   "id": "603c20ad",
   "metadata": {},
   "outputs": [
    {
     "data": {
      "text/plain": [
       "name\n",
       "mem    50\n",
       "cpu    49\n",
       "CPU     1\n",
       "Name: count, dtype: int64"
      ]
     },
     "execution_count": 5,
     "metadata": {},
     "output_type": "execute_result"
    }
   ],
   "source": [
    "df['name'].value_counts()"
   ]
  },
  {
   "cell_type": "code",
   "execution_count": 6,
   "id": "b9be023a",
   "metadata": {},
   "outputs": [
    {
     "data": {
      "text/plain": [
       "array([<Axes: xlabel='time'>, <Axes: xlabel='time'>,\n",
       "       <Axes: xlabel='time'>], dtype=object)"
      ]
     },
     "execution_count": 6,
     "metadata": {},
     "output_type": "execute_result"
    },
    {
     "data": {
      "image/png": "[encoded data removed]",
      "text/plain": [
       "<Figure size 640x480 with 3 Axes>"
      ]
     },
     "metadata": {},
     "output_type": "display_data"
    }
   ],
   "source": [
    "pd.pivot(df, index='time', columns='name').plot(subplots=True)"
   ]
  },
  {
   "cell_type": "code",
   "execution_count": 7,
   "id": "b6a93a2e",
   "metadata": {},
   "outputs": [
    {
     "data": {
      "text/html": [
       "<div>\n",
       "<style scoped>\n",
       "    .dataframe tbody tr th:only-of-type {\n",
       "        vertical-align: middle;\n",
       "    }\n",
       "\n",
       "    .dataframe tbody tr th {\n",
       "        vertical-align: top;\n",
       "    }\n",
       "\n",
       "    .dataframe thead th {\n",
       "        text-align: right;\n",
       "    }\n",
       "</style>\n",
       "<table border=\"1\" class=\"dataframe\">\n",
       "  <thead>\n",
       "    <tr style=\"text-align: right;\">\n",
       "      <th></th>\n",
       "      <th>time</th>\n",
       "      <th>name</th>\n",
       "      <th>value</th>\n",
       "    </tr>\n",
       "  </thead>\n",
       "  <tbody>\n",
       "    <tr>\n",
       "      <th>3</th>\n",
       "      <td>2021-07-13 14:36:53.337</td>\n",
       "      <td>cpu</td>\n",
       "      <td>300.90</td>\n",
       "    </tr>\n",
       "    <tr>\n",
       "      <th>9</th>\n",
       "      <td>2021-07-13 14:36:56.208</td>\n",
       "      <td>cpu</td>\n",
       "      <td>-32.14</td>\n",
       "    </tr>\n",
       "  </tbody>\n",
       "</table>\n",
       "</div>"
      ],
      "text/plain": [
       "                     time name   value\n",
       "3 2021-07-13 14:36:53.337  cpu  300.90\n",
       "9 2021-07-13 14:36:56.208  cpu  -32.14"
      ]
     },
     "execution_count": 7,
     "metadata": {},
     "output_type": "execute_result"
    }
   ],
   "source": [
    "df.query('name == \"cpu\" & (value < 0 | value > 100)')"
   ]
  },
  {
   "cell_type": "code",
   "execution_count": 8,
   "id": "93041f53",
   "metadata": {},
   "outputs": [
    {
     "data": {
      "text/html": [
       "<div>\n",
       "<style scoped>\n",
       "    .dataframe tbody tr th:only-of-type {\n",
       "        vertical-align: middle;\n",
       "    }\n",
       "\n",
       "    .dataframe tbody tr th {\n",
       "        vertical-align: top;\n",
       "    }\n",
       "\n",
       "    .dataframe thead th {\n",
       "        text-align: right;\n",
       "    }\n",
       "</style>\n",
       "<table border=\"1\" class=\"dataframe\">\n",
       "  <thead>\n",
       "    <tr style=\"text-align: right;\">\n",
       "      <th></th>\n",
       "      <th>time</th>\n",
       "      <th>name</th>\n",
       "      <th>value</th>\n",
       "    </tr>\n",
       "  </thead>\n",
       "  <tbody>\n",
       "    <tr>\n",
       "      <th>6</th>\n",
       "      <td>2021-07-13 14:36:55.251</td>\n",
       "      <td>mem</td>\n",
       "      <td>295.0</td>\n",
       "    </tr>\n",
       "  </tbody>\n",
       "</table>\n",
       "</div>"
      ],
      "text/plain": [
       "                     time name  value\n",
       "6 2021-07-13 14:36:55.251  mem  295.0"
      ]
     },
     "execution_count": 8,
     "metadata": {},
     "output_type": "execute_result"
    }
   ],
   "source": [
    "mem = df[df['name'] == 'mem']['value']\n",
    "z_score = (mem - mem.mean())/mem.std()\n",
    "bad_mem = mem[z_score.abs() > 2]\n",
    "# bad_mem\n",
    "df.loc[bad_mem.index]"
   ]
  },
  {
   "cell_type": "code",
   "execution_count": null,
   "id": "f618048f",
   "metadata": {},
   "outputs": [],
   "source": []
  }
 ],
 "metadata": {
  "kernelspec": {
   "display_name": ".venv",
   "language": "python",
   "name": "python3"
  },
  "language_info": {
   "codemirror_mode": {
    "name": "ipython",
    "version": 3
   },
   "file_extension": ".py",
   "mimetype": "text/x-python",
   "name": "python",
   "nbconvert_exporter": "python",
   "pygments_lexer": "ipython3",
   "version": "3.10.12"
  }
 },
 "nbformat": 4,
 "nbformat_minor": 5
}
