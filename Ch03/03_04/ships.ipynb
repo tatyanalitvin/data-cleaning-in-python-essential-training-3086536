{
 "cells": [
  {
   "cell_type": "code",
   "execution_count": 1,
   "id": "7390782f",
   "metadata": {},
   "outputs": [],
   "source": [
    "# Upgrade NumPy to the latest version\n",
    "# !pip install --upgrade numpy\n",
    "\n",
    "# # Upgrade Pandera to ensure compatibility\n",
    "# !pip install --upgrade pandera"
   ]
  },
  {
   "cell_type": "code",
   "execution_count": 2,
   "id": "2f477e09",
   "metadata": {},
   "outputs": [],
   "source": [
    "# Check for outdated packages and update them\n",
    "!pip list --outdated"
   ]
  },
  {
   "cell_type": "code",
   "execution_count": 3,
   "id": "53c01029",
   "metadata": {},
   "outputs": [],
   "source": [
    "# !pip install --upgrade pybind11"
   ]
  },
  {
   "cell_type": "code",
   "execution_count": 1,
   "id": "03187cfd",
   "metadata": {},
   "outputs": [],
   "source": [
    "import pandas as pd"
   ]
  },
  {
   "cell_type": "code",
   "execution_count": 2,
   "id": "aef3dccc",
   "metadata": {},
   "outputs": [
    {
     "data": {
      "text/html": [
       "<div>\n",
       "<style scoped>\n",
       "    .dataframe tbody tr th:only-of-type {\n",
       "        vertical-align: middle;\n",
       "    }\n",
       "\n",
       "    .dataframe tbody tr th {\n",
       "        vertical-align: top;\n",
       "    }\n",
       "\n",
       "    .dataframe thead th {\n",
       "        text-align: right;\n",
       "    }\n",
       "</style>\n",
       "<table border=\"1\" class=\"dataframe\">\n",
       "  <thead>\n",
       "    <tr style=\"text-align: right;\">\n",
       "      <th></th>\n",
       "      <th>name</th>\n",
       "      <th>lat</th>\n",
       "      <th>lng</th>\n",
       "    </tr>\n",
       "  </thead>\n",
       "  <tbody>\n",
       "    <tr>\n",
       "      <th>0</th>\n",
       "      <td>Black Pearl</td>\n",
       "      <td>20.664865</td>\n",
       "      <td>-80.709747</td>\n",
       "    </tr>\n",
       "    <tr>\n",
       "      <th>1</th>\n",
       "      <td>Cobra</td>\n",
       "      <td>20.664868</td>\n",
       "      <td>-80.709740</td>\n",
       "    </tr>\n",
       "    <tr>\n",
       "      <th>2</th>\n",
       "      <td>Flying Dutchman</td>\n",
       "      <td>20.664878</td>\n",
       "      <td>-80.709941</td>\n",
       "    </tr>\n",
       "    <tr>\n",
       "      <th>3</th>\n",
       "      <td>Empress</td>\n",
       "      <td>NaN</td>\n",
       "      <td>NaN</td>\n",
       "    </tr>\n",
       "  </tbody>\n",
       "</table>\n",
       "</div>"
      ],
      "text/plain": [
       "              name        lat        lng\n",
       "0      Black Pearl  20.664865 -80.709747\n",
       "1            Cobra  20.664868 -80.709740\n",
       "2  Flying Dutchman  20.664878 -80.709941\n",
       "3          Empress        NaN        NaN"
      ]
     },
     "execution_count": 2,
     "metadata": {},
     "output_type": "execute_result"
    }
   ],
   "source": [
    "df = pd.read_csv('ships.csv')\n",
    "df"
   ]
  },
  {
   "cell_type": "code",
   "execution_count": 3,
   "id": "e3bbb341",
   "metadata": {},
   "outputs": [
    {
     "data": {
      "text/html": [
       "<div>\n",
       "<style scoped>\n",
       "    .dataframe tbody tr th:only-of-type {\n",
       "        vertical-align: middle;\n",
       "    }\n",
       "\n",
       "    .dataframe tbody tr th {\n",
       "        vertical-align: top;\n",
       "    }\n",
       "\n",
       "    .dataframe thead th {\n",
       "        text-align: right;\n",
       "    }\n",
       "</style>\n",
       "<table border=\"1\" class=\"dataframe\">\n",
       "  <thead>\n",
       "    <tr style=\"text-align: right;\">\n",
       "      <th></th>\n",
       "      <th>name</th>\n",
       "      <th>lat</th>\n",
       "      <th>lng</th>\n",
       "    </tr>\n",
       "  </thead>\n",
       "  <tbody>\n",
       "    <tr>\n",
       "      <th>0</th>\n",
       "      <td>Black Pearl</td>\n",
       "      <td>20.664865</td>\n",
       "      <td>-80.709747</td>\n",
       "    </tr>\n",
       "    <tr>\n",
       "      <th>1</th>\n",
       "      <td>Cobra</td>\n",
       "      <td>20.664868</td>\n",
       "      <td>-80.709740</td>\n",
       "    </tr>\n",
       "    <tr>\n",
       "      <th>2</th>\n",
       "      <td>Flying Dutchman</td>\n",
       "      <td>20.664878</td>\n",
       "      <td>-80.709941</td>\n",
       "    </tr>\n",
       "    <tr>\n",
       "      <th>3</th>\n",
       "      <td>Empress</td>\n",
       "      <td>NaN</td>\n",
       "      <td>NaN</td>\n",
       "    </tr>\n",
       "  </tbody>\n",
       "</table>\n",
       "</div>"
      ],
      "text/plain": [
       "              name        lat        lng\n",
       "0      Black Pearl  20.664865 -80.709747\n",
       "1            Cobra  20.664868 -80.709740\n",
       "2  Flying Dutchman  20.664878 -80.709941\n",
       "3          Empress        NaN        NaN"
      ]
     },
     "execution_count": 3,
     "metadata": {},
     "output_type": "execute_result"
    }
   ],
   "source": [
    "import pandera as pa\n",
    "import numpy as np\n",
    "\n",
    "schema = pa.DataFrameSchema({\n",
    "    'name': pa.Column(pa.String),\n",
    "    'lat': pa.Column(\n",
    "        pa.Float,\n",
    "        nullable=True,\n",
    "        checks=pa.Check(\n",
    "            lambda v: v >= -90 and v <= 90,\n",
    "            element_wise=True,\n",
    "        ),\n",
    "    ),\n",
    "    'lng': pa.Column(\n",
    "        pa.Float,\n",
    "        nullable=True,\n",
    "        checks=pa.Check(\n",
    "            lambda v: v >= -180 and v <= 180,\n",
    "            element_wise=True,\n",
    "        ),\n",
    "    ),\n",
    "})\n",
    "\n",
    "schema.validate(df)"
   ]
  },
  {
   "cell_type": "code",
   "execution_count": null,
   "id": "9ec392ab",
   "metadata": {},
   "outputs": [],
   "source": []
  }
 ],
 "metadata": {
  "kernelspec": {
   "display_name": ".venv",
   "language": "python",
   "name": "python3"
  },
  "language_info": {
   "codemirror_mode": {
    "name": "ipython",
    "version": 3
   },
   "file_extension": ".py",
   "mimetype": "text/x-python",
   "name": "python",
   "nbconvert_exporter": "python",
   "pygments_lexer": "ipython3",
   "version": "3.10.12"
  }
 },
 "nbformat": 4,
 "nbformat_minor": 5
}
